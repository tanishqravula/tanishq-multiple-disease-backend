{
 "cells": [
  {
   "cell_type": "code",
   "execution_count": null,
   "metadata": {
    "colab": {
     "base_uri": "https://localhost:8080/"
    },
    "id": "XIn7--lZHQrr",
    "outputId": "22334b79-4d74-43c0-e19a-60ebd289b0cd"
   },
   "outputs": [],
   "source": [
    "!kaggle datasets download -d iarunava/archive (4)\n",
    "\n"
   ]
  },
  {
   "cell_type": "code",
   "execution_count": 28,
   "metadata": {
    "id": "yq7M7c6KKMqI"
   },
   "outputs": [],
   "source": [
    "import zipfile\n",
    "\n",
    "z= zipfile.ZipFile('C://Users/91770/Downloads/archive (4).zip')\n",
    "z.extractall()"
   ]
  },
  {
   "cell_type": "code",
   "execution_count": 32,
   "metadata": {
    "colab": {
     "base_uri": "https://localhost:8080/"
    },
    "id": "dbDNxhYhHsNm",
    "outputId": "a8b9fc2c-cab4-47fc-ad89-d4b70d773eed"
   },
   "outputs": [
    {
     "name": "stderr",
     "output_type": "stream",
     "text": [
      "UsageError: Line magic function `%tensorflow_version` not found.\n"
     ]
    }
   ],
   "source": [
    "import os, shutil\n",
    "import random\n",
    "import numpy as np\n",
    "import pandas as pd\n",
    "import itertools\n",
    "from tqdm import tqdm, tqdm_notebook\n",
    "import cv2\n",
    "from scipy import stats\n",
    "from sklearn.metrics import confusion_matrix, roc_curve,auc, classification_report, precision_score, recall_score\n",
    "from sklearn.linear_model import LinearRegression\n",
    "\n",
    "import skimage\n",
    "import skimage.segmentation\n",
    "import copy\n",
    "import matplotlib.pyplot as plt\n",
    "%matplotlib inline\n",
    "plt.style.use('ggplot')\n",
    "import matplotlib.pyplot as plt\n",
    "import seaborn as sns\n",
    "import matplotlib.image as mpimg\n",
    "\n",
    "%tensorflow_version 2.x\n",
    "import tensorflow as tf\n",
    "device_name = tf.test.gpu_device_name()\n",
    "if device_name != '/device:GPU:0':\n",
    "  raise SystemError('GPU device not found')\n",
    "print('Found GPU at: {}'.format(device_name))\n",
    "\n",
    "print(tf.__version__)\n",
    "from tensorflow.keras.preprocessing.image import ImageDataGenerator\n",
    "from tensorflow.keras.models import Model\n",
    "from tensorflow.keras.models import load_model\n",
    "from tensorflow.keras.layers import Input, Flatten, Dense, MaxPooling2D, Conv2D, Dropout\n",
    "from tensorflow.keras.applications.vgg19 import VGG19\n",
    "from tensorflow.keras.optimizers import SGD, RMSprop, Adam\n",
    "from tensorflow.keras.callbacks import ModelCheckpoint, EarlyStopping, ReduceLROnPlateau\n",
    "from tensorflow.keras.applications.imagenet_utils import decode_predictions"
   ]
  },
  {
   "cell_type": "code",
   "execution_count": 14,
   "metadata": {
    "id": "1VTXdYc4IP_w"
   },
   "outputs": [],
   "source": [
    "original_dataset_parasitized = os.path.join('cell_images/cell_images', 'Parasitized/')\n",
    "original_dataset_uninfected = os.path.join('cell_images/cell_images', 'Uninfected/')"
   ]
  },
  {
   "cell_type": "code",
   "execution_count": 15,
   "metadata": {
    "id": "inGjSXI_IT0m"
   },
   "outputs": [],
   "source": [
    "# Create a base dir\n",
    "if not os.path.isdir('healthy_and_infected'):\n",
    "    base_dir = 'healthy_and_infected'\n",
    "    os.mkdir(base_dir)"
   ]
  },
  {
   "cell_type": "code",
   "execution_count": 16,
   "metadata": {
    "id": "6-iUAb2_JIoM"
   },
   "outputs": [],
   "source": [
    "# Make train, valid and test directories\n",
    "#train\n",
    "if not os.path.isdir('healthy_and_infected/train'):\n",
    "    train_dir = os.path.join(base_dir, 'train')\n",
    "    os.mkdir(train_dir)\n",
    "#valid\n",
    "if not os.path.isdir('healthy_and_infected/valid'):\n",
    "    valid_dir = os.path.join(base_dir, 'valid')\n",
    "    os.mkdir(valid_dir)\n",
    "#test\n",
    "if not os.path.isdir('healthy_and_infected/test'):\n",
    "    test_dir = os.path.join(base_dir, 'test')\n",
    "    os.mkdir(test_dir)"
   ]
  },
  {
   "cell_type": "code",
   "execution_count": 19,
   "metadata": {
    "id": "94H7y3jCJOFe"
   },
   "outputs": [],
   "source": [
    "# Make directories for infected images in each of the train, valid and test directories\n",
    "if not os.path.isdir('healthy_and_infected/train/inf'):\n",
    "    infected_trn_dir = os.path.join(train_dir, 'inf')\n",
    "    os.mkdir(infected_trn_dir)\n",
    "\n",
    "if not os.path.isdir('healthy_and_infected/valid/inf'):\n",
    "    infected_valid_dir = os.path.join(valid_dir, 'inf')\n",
    "    os.mkdir(infected_valid_dir)\n",
    "\n",
    "if not os.path.isdir('healthy_and_infected/test/inf'):\n",
    "    infected_test_dir = os.path.join(test_dir, 'inf')\n",
    "    os.mkdir(infected_test_dir)"
   ]
  },
  {
   "cell_type": "code",
   "execution_count": 34,
   "metadata": {
    "id": "yepMGK1yJSOC"
   },
   "outputs": [],
   "source": [
    "# Make directories for healthy images in each of the train, valid and test directories\n",
    "if not os.path.isdir('healthy_and_infected/train/healthy'):\n",
    "    healthy_trn_dir = os.path.join(train_dir, 'healthy')\n",
    "    os.mkdir(healthy_trn_dir)\n",
    "\n",
    "if not os.path.isdir('healthy_and_infected/valid/healthy'):\n",
    "    healthy_valid_dir = os.path.join(valid_dir, 'healthy')\n",
    "    os.mkdir(healthy_valid_dir)\n",
    "\n",
    "if not os.path.isdir('healthy_and_infected/test/healthy'):\n",
    "    healthy_test_dir = os.path.join(test_dir, 'healthy')\n",
    "    os.mkdir(healthy_test_dir)"
   ]
  },
  {
   "cell_type": "code",
   "execution_count": 27,
   "metadata": {
    "id": "Lwo99hzoODE0"
   },
   "outputs": [],
   "source": [
    "files1 = os.listdir('cell_images/cell_images/Parasitized/')\n",
    "fnames1 = []\n",
    "for i in range(13779):\n",
    "    fnames1.append(files1[i])\n",
    "\n",
    "if 'Thumbs.db' in fnames1:\n",
    "    os.remove('cell_images/cell_images/Parasitized/Thumbs.db')\n",
    "\n",
    "files2 = os.listdir('cell_images/cell_images/Uninfected/')\n",
    "fnames2 = []\n",
    "for i in range(13779):\n",
    "    fnames2.append(files2[i])\n",
    "\n",
    "if 'Thumbs.db' in fnames2:\n",
    "    os.remove('cell_images/cell_images/Uninfected/Thumbs.db')"
   ]
  },
  {
   "cell_type": "code",
   "execution_count": 28,
   "metadata": {
    "id": "fvITWizBJVFa"
   },
   "outputs": [],
   "source": [
    "files = os.listdir('cell_images/cell_images/Parasitized/')\n",
    "fnames = []\n",
    "for i in range(11023):\n",
    "    fnames.append(files[i])\n",
    "  \n",
    "for fname in fnames:\n",
    "    src = os.path.join(original_dataset_parasitized, fname)\n",
    "    dst = os.path.join(infected_trn_dir, fname)\n",
    "    shutil.copyfile(src,dst)"
   ]
  },
  {
   "cell_type": "code",
   "execution_count": 29,
   "metadata": {
    "id": "hk4ZPsy7JyeD"
   },
   "outputs": [],
   "source": [
    "files = os.listdir('cell_images/cell_images/Parasitized/')\n",
    "fnames = []\n",
    "for i in range(11023, 12401):\n",
    "    fnames.append(files[i])\n",
    "    \n",
    "for fname in fnames:\n",
    "    src = os.path.join(original_dataset_parasitized, fname)\n",
    "    dst = os.path.join(infected_test_dir, fname)\n",
    "    shutil.copyfile(src,dst)"
   ]
  },
  {
   "cell_type": "code",
   "execution_count": 30,
   "metadata": {
    "id": "YYDsCBRSLSRX"
   },
   "outputs": [],
   "source": [
    "files = os.listdir('cell_images/cell_images/Parasitized/')\n",
    "fnames = []\n",
    "for i in range(12401, 13779):\n",
    "    fnames.append(files[i])\n",
    "    \n",
    "for fname in fnames:\n",
    "    src = os.path.join(original_dataset_parasitized, fname)\n",
    "    dst = os.path.join(infected_valid_dir, fname)\n",
    "    shutil.copyfile(src,dst)"
   ]
  },
  {
   "cell_type": "code",
   "execution_count": 31,
   "metadata": {
    "id": "MbOY4phgLW0U"
   },
   "outputs": [],
   "source": [
    "files = os.listdir('cell_images/cell_images/Uninfected/')\n",
    "fnames = []\n",
    "for i in range(11023):\n",
    "    fnames.append(files[i])\n",
    "    \n",
    "for fname in fnames:\n",
    "    src = os.path.join(original_dataset_uninfected, fname)\n",
    "    dst = os.path.join(healthy_trn_dir, fname)\n",
    "    shutil.copyfile(src,dst)"
   ]
  },
  {
   "cell_type": "code",
   "execution_count": 32,
   "metadata": {
    "id": "nRYgOLPJLZBR"
   },
   "outputs": [],
   "source": [
    "files = os.listdir('cell_images/cell_images/Uninfected/')\n",
    "fnames = []\n",
    "for i in range(11023, 12401):\n",
    "    fnames.append(files[i])\n",
    "    \n",
    "for fname in fnames:\n",
    "    src = os.path.join(original_dataset_uninfected, fname)\n",
    "    dst = os.path.join(healthy_test_dir, fname)\n",
    "    shutil.copyfile(src,dst)"
   ]
  },
  {
   "cell_type": "code",
   "execution_count": null,
   "metadata": {
    "id": "uTtUjCW8LbuN"
   },
   "outputs": [],
   "source": [
    "files = os.listdir('cell_images/cell_images/Uninfected/')\n",
    "fnames = []\n",
    "for i in range(12401, 13779):\n",
    "    fnames.append(files[i])\n",
    "    \n",
    "for fname in fnames:\n",
    "    src = os.path.join(original_dataset_uninfected, fname)\n",
    "    dst = os.path.join(healthy_valid_dir, fname)\n",
    "    shutil.copyfile(src,dst)"
   ]
  },
  {
   "cell_type": "code",
   "execution_count": 17,
   "metadata": {
    "colab": {
     "base_uri": "https://localhost:8080/"
    },
    "id": "crGbDsijLd-K",
    "outputId": "d442bc02-e726-46d5-cb22-e5108024b008"
   },
   "outputs": [
    {
     "ename": "NameError",
     "evalue": "name 'infected_trn_dir' is not defined",
     "output_type": "error",
     "traceback": [
      "\u001b[1;31m---------------------------------------------------------------------------\u001b[0m",
      "\u001b[1;31mNameError\u001b[0m                                 Traceback (most recent call last)",
      "Cell \u001b[1;32mIn[17], line 1\u001b[0m\n\u001b[1;32m----> 1\u001b[0m \u001b[38;5;28mprint\u001b[39m(\u001b[38;5;124m\"\u001b[39m\u001b[38;5;132;01m{}\u001b[39;00m\u001b[38;5;124m Infected training images:\u001b[39m\u001b[38;5;124m\"\u001b[39m\u001b[38;5;241m.\u001b[39mformat(\u001b[38;5;28mlen\u001b[39m(os\u001b[38;5;241m.\u001b[39mlistdir(\u001b[43minfected_trn_dir\u001b[49m))))\n\u001b[0;32m      2\u001b[0m \u001b[38;5;28mprint\u001b[39m(\u001b[38;5;124m\"\u001b[39m\u001b[38;5;132;01m{}\u001b[39;00m\u001b[38;5;124m Uninfected training images:\u001b[39m\u001b[38;5;124m\"\u001b[39m\u001b[38;5;241m.\u001b[39mformat(\u001b[38;5;28mlen\u001b[39m(os\u001b[38;5;241m.\u001b[39mlistdir(healthy_trn_dir))))\n\u001b[0;32m      3\u001b[0m \u001b[38;5;28mprint\u001b[39m(\u001b[38;5;124m\"\u001b[39m\u001b[38;5;124m \u001b[39m\u001b[38;5;132;01m{}\u001b[39;00m\u001b[38;5;124m Infected valid images:\u001b[39m\u001b[38;5;124m\"\u001b[39m\u001b[38;5;241m.\u001b[39mformat(\u001b[38;5;28mlen\u001b[39m(os\u001b[38;5;241m.\u001b[39mlistdir(infected_valid_dir))))\n",
      "\u001b[1;31mNameError\u001b[0m: name 'infected_trn_dir' is not defined"
     ]
    }
   ],
   "source": [
    "print(\"{} Infected training images:\".format(len(os.listdir(infected_trn_dir))))\n",
    "print(\"{} Uninfected training images:\".format(len(os.listdir(healthy_trn_dir))))\n",
    "print(\" {} Infected valid images:\".format(len(os.listdir(infected_valid_dir))))\n",
    "print(\" {} Uninfected valid images:\".format(len(os.listdir(healthy_valid_dir))))\n",
    "print(\" {} Infected testing images:\".format(len(os.listdir(infected_test_dir))))\n",
    "print(\" {} Uninfected testing images:\".format(len(os.listdir(healthy_test_dir))))"
   ]
  },
  {
   "cell_type": "markdown",
   "metadata": {
    "id": "xyyikeIkLh_x"
   },
   "source": [
    "# Exploratory Data Analysis"
   ]
  },
  {
   "cell_type": "code",
   "execution_count": 35,
   "metadata": {
    "id": "LXHrNGXmLfpe"
   },
   "outputs": [],
   "source": [
    "# Train\n",
    "infected_trn_fpaths = [os.path.join(infected_trn_dir, fpath) for fpath in os.listdir(infected_trn_dir)]\n",
    "healthy_trn_fpaths = [os.path.join(healthy_trn_dir, fpath) for fpath in os.listdir(healthy_trn_dir)]\n",
    "\n",
    "# Valid\n",
    "infected_valid_fpaths = [os.path.join(infected_valid_dir, fpath) for fpath in os.listdir(infected_valid_dir)]\n",
    "healthy_valid_fpaths = [os.path.join(healthy_valid_dir, fpath) for fpath in os.listdir(healthy_valid_dir)]\n",
    "\n",
    "# Test\n",
    "infected_test_fpaths = [os.path.join(infected_test_dir, fpath) for fpath in os.listdir(infected_test_dir)]\n",
    "healthy_test_fpaths = [os.path.join(healthy_test_dir, fpath) for fpath in os.listdir(healthy_test_dir)]"
   ]
  },
  {
   "cell_type": "code",
   "execution_count": 36,
   "metadata": {
    "colab": {
     "base_uri": "https://localhost:8080/"
    },
    "id": "uRg0fTKvLkjz",
    "outputId": "88c648c3-2782-4567-db76-72acdf9a5520"
   },
   "outputs": [
    {
     "name": "stdout",
     "output_type": "stream",
     "text": [
      "working on img 0\n",
      "working on img 2000\n",
      "working on img 4000\n",
      "working on img 6000\n",
      "working on img 8000\n",
      "working on img 10000\n",
      "working on img 12000\n",
      "working on img 14000\n",
      "working on img 16000\n",
      "working on img 18000\n",
      "working on img 20000\n",
      "working on img 22000\n",
      "working on img 22045\n"
     ]
    }
   ],
   "source": [
    "def get_img_shape(idx, img, total_num_images):\n",
    "    \n",
    "    if idx%2000 ==0 or idx == (total_num_images-1):\n",
    "        print(\"working on img {}\".format(idx))\n",
    "    return cv2.imread(img).shape\n",
    "\n",
    "data_inp = [(idx, img, len(infected_trn_fpaths + healthy_trn_fpaths)) for idx, img in enumerate(infected_trn_fpaths + healthy_trn_fpaths)]\n",
    "\n",
    "train_img_dims_map = list(map(get_img_shape, [input[0] for input in data_inp],\n",
    "    [input[1] for input in data_inp],\n",
    "    [input[2] for input in data_inp]))"
   ]
  },
  {
   "cell_type": "code",
   "execution_count": 37,
   "metadata": {
    "colab": {
     "base_uri": "https://localhost:8080/"
    },
    "id": "VG-Lgo9_LmL1",
    "outputId": "27e1d7fc-51be-42a8-adb8-aa5a09d1bcb5"
   },
   "outputs": [
    {
     "name": "stdout",
     "output_type": "stream",
     "text": [
      "Min Dimensions:           [40 46  3]\n",
      "Avg Dimensions:           [132.93141613 132.45187336   3.        ]\n",
      "Median Dimensions:        [130. 130.   3.]\n",
      "Most Frequent Dimensions: [[130 130   3]]\n",
      "Max Dimensions:           [385 394   3]\n"
     ]
    }
   ],
   "source": [
    "print('Min Dimensions:           {}'.format(np.min(train_img_dims_map, axis=0)))\n",
    "print('Avg Dimensions:           {}'.format(np.mean(train_img_dims_map, axis=0)))\n",
    "print('Median Dimensions:        {}'.format(np.median(train_img_dims_map, axis=0)))\n",
    "print('Most Frequent Dimensions: {}'.format(stats.mode(train_img_dims_map, axis=0)[0]))\n",
    "print('Max Dimensions:           {}'.format(np.max(train_img_dims_map, axis=0)))"
   ]
  },
  {
   "cell_type": "code",
   "execution_count": 38,
   "metadata": {
    "id": "ywqz76UYP84m"
   },
   "outputs": [],
   "source": [
    "infected_trn_samples = random.sample(infected_trn_fpaths, 5)\n",
    "healthy_trn_samples = random.sample(healthy_trn_fpaths, 5)"
   ]
  },
  {
   "cell_type": "code",
   "execution_count": null,
   "metadata": {
    "colab": {
     "base_uri": "https://localhost:8080/",
     "height": 539
    },
    "id": "M019pkX4P_KM",
    "outputId": "eb2c8b31-f8f1-4ea5-8851-efc934bd5cc9"
   },
   "outputs": [],
   "source": [
    "fig =plt.figure(figsize=(28,14))\n",
    "columns=5\n",
    "rows=1\n",
    "for i in range(1, columns*rows +1):\n",
    "    fig.add_subplot(rows, columns, i)\n",
    "    plt.imshow(mpimg.imread(infected_trn_samples[i-1]))\n",
    "    plt.axis('off')\n",
    "    plt.title('Infected', fontsize=32)\n",
    "plt.show()\n",
    "\n",
    "\n",
    "fig =plt.figure(figsize=(28,14))\n",
    "columns=5\n",
    "rows=1\n",
    "for i in range(1, columns*rows +1):\n",
    "    fig.add_subplot(rows, columns, i)\n",
    "    plt.imshow(mpimg.imread(healthy_trn_samples[i-1]))\n",
    "    plt.axis('off')\n",
    "    plt.title('Healthy', fontsize=32)\n",
    "plt.savefig(\"outputs/malaria_cell_images.jpeg\", format='jpeg', dpi=400, bbox_inches='tight')\n",
    "plt.show()"
   ]
  },
  {
   "cell_type": "markdown",
   "metadata": {
    "id": "rYVElYkuQEhL"
   },
   "source": [
    "# Data augmentation and resizing images"
   ]
  },
  {
   "cell_type": "code",
   "execution_count": 40,
   "metadata": {
    "colab": {
     "base_uri": "https://localhost:8080/"
    },
    "id": "Up07mxxZQBGK",
    "outputId": "0590105f-405b-4ded-bbbc-6a1c75da1211"
   },
   "outputs": [
    {
     "name": "stdout",
     "output_type": "stream",
     "text": [
      "Found 22046 images belonging to 2 classes.\n",
      "Found 2756 images belonging to 2 classes.\n"
     ]
    }
   ],
   "source": [
    "train_datagen = ImageDataGenerator(rescale=1./255.,\n",
    "                                   horizontal_flip=0.4,\n",
    "                                   vertical_flip=0.4,\n",
    "                                   rotation_range=40,\n",
    "                                   shear_range=0.2,\n",
    "                                   width_shift_range=0.4,\n",
    "                                   height_shift_range=0.4,\n",
    "                                   fill_mode='nearest')\n",
    "valid_datagen = ImageDataGenerator(rescale=1.0/255.)\n",
    "test_datagen = ImageDataGenerator(rescale=1.0/255.)\n",
    "\n",
    "train_generator = train_datagen.flow_from_directory(train_dir,\n",
    "                                                    batch_size=32,\n",
    "                                                    target_size=(128,128),\n",
    "                                                    class_mode='categorical',\n",
    "                                                    shuffle=True,\n",
    "                                                    seed=42,\n",
    "                                                    color_mode='rgb')\n",
    "\n",
    "valid_generator = valid_datagen.flow_from_directory(valid_dir,\n",
    "                                                    batch_size=32,\n",
    "                                                    target_size=(128, 128),\n",
    "                                                    class_mode='categorical',\n",
    "                                                    shuffle=True,\n",
    "                                                    seed=42,\n",
    "                                                    color_mode='rgb')\n",
    "\n",
    "class_labels = train_generator.class_indices\n",
    "class_names = {value:key for (key, value) in class_labels.items()}"
   ]
  },
  {
   "cell_type": "code",
   "execution_count": 41,
   "metadata": {
    "colab": {
     "base_uri": "https://localhost:8080/"
    },
    "id": "e-KKhxbtQJfy",
    "outputId": "83cddea3-1b80-47e0-daeb-f11b52f3445a"
   },
   "outputs": [
    {
     "data": {
      "text/plain": [
       "({'healthy': 0, 'inf': 1}, {0: 'healthy', 1: 'inf'})"
      ]
     },
     "execution_count": 41,
     "metadata": {},
     "output_type": "execute_result"
    }
   ],
   "source": [
    "class_labels, class_names"
   ]
  },
  {
   "cell_type": "markdown",
   "metadata": {
    "id": "GEJtyUWcQNU6"
   },
   "source": [
    "# Transfer Learning - VGG19 CNN Architecture"
   ]
  },
  {
   "cell_type": "code",
   "execution_count": 42,
   "metadata": {
    "colab": {
     "base_uri": "https://localhost:8080/"
    },
    "id": "shMh0FiMQLo5",
    "outputId": "d8f13855-500e-4333-ae85-fa04942354a1"
   },
   "outputs": [
    {
     "name": "stdout",
     "output_type": "stream",
     "text": [
      "Downloading data from https://storage.googleapis.com/tensorflow/keras-applications/vgg19/vgg19_weights_tf_dim_ordering_tf_kernels_notop.h5\n",
      "80142336/80134624 [==============================] - 1s 0us/step\n",
      "80150528/80134624 [==============================] - 1s 0us/step\n",
      "Model: \"model\"\n",
      "_________________________________________________________________\n",
      " Layer (type)                Output Shape              Param #   \n",
      "=================================================================\n",
      " input_1 (InputLayer)        [(None, 128, 128, 3)]     0         \n",
      "                                                                 \n",
      " block1_conv1 (Conv2D)       (None, 128, 128, 64)      1792      \n",
      "                                                                 \n",
      " block1_conv2 (Conv2D)       (None, 128, 128, 64)      36928     \n",
      "                                                                 \n",
      " block1_pool (MaxPooling2D)  (None, 64, 64, 64)        0         \n",
      "                                                                 \n",
      " block2_conv1 (Conv2D)       (None, 64, 64, 128)       73856     \n",
      "                                                                 \n",
      " block2_conv2 (Conv2D)       (None, 64, 64, 128)       147584    \n",
      "                                                                 \n",
      " block2_pool (MaxPooling2D)  (None, 32, 32, 128)       0         \n",
      "                                                                 \n",
      " block3_conv1 (Conv2D)       (None, 32, 32, 256)       295168    \n",
      "                                                                 \n",
      " block3_conv2 (Conv2D)       (None, 32, 32, 256)       590080    \n",
      "                                                                 \n",
      " block3_conv3 (Conv2D)       (None, 32, 32, 256)       590080    \n",
      "                                                                 \n",
      " block3_conv4 (Conv2D)       (None, 32, 32, 256)       590080    \n",
      "                                                                 \n",
      " block3_pool (MaxPooling2D)  (None, 16, 16, 256)       0         \n",
      "                                                                 \n",
      " block4_conv1 (Conv2D)       (None, 16, 16, 512)       1180160   \n",
      "                                                                 \n",
      " block4_conv2 (Conv2D)       (None, 16, 16, 512)       2359808   \n",
      "                                                                 \n",
      " block4_conv3 (Conv2D)       (None, 16, 16, 512)       2359808   \n",
      "                                                                 \n",
      " block4_conv4 (Conv2D)       (None, 16, 16, 512)       2359808   \n",
      "                                                                 \n",
      " block4_pool (MaxPooling2D)  (None, 8, 8, 512)         0         \n",
      "                                                                 \n",
      " block5_conv1 (Conv2D)       (None, 8, 8, 512)         2359808   \n",
      "                                                                 \n",
      " block5_conv2 (Conv2D)       (None, 8, 8, 512)         2359808   \n",
      "                                                                 \n",
      " block5_conv3 (Conv2D)       (None, 8, 8, 512)         2359808   \n",
      "                                                                 \n",
      " block5_conv4 (Conv2D)       (None, 8, 8, 512)         2359808   \n",
      "                                                                 \n",
      " block5_pool (MaxPooling2D)  (None, 4, 4, 512)         0         \n",
      "                                                                 \n",
      " flatten (Flatten)           (None, 8192)              0         \n",
      "                                                                 \n",
      " dense (Dense)               (None, 4608)              37753344  \n",
      "                                                                 \n",
      " dropout (Dropout)           (None, 4608)              0         \n",
      "                                                                 \n",
      " dense_1 (Dense)             (None, 1152)              5309568   \n",
      "                                                                 \n",
      " dense_2 (Dense)             (None, 2)                 2306      \n",
      "                                                                 \n",
      "=================================================================\n",
      "Total params: 63,089,602\n",
      "Trainable params: 43,065,218\n",
      "Non-trainable params: 20,024,384\n",
      "_________________________________________________________________\n"
     ]
    }
   ],
   "source": [
    "# Instantiate VGG19 model with weights from Imagenet without the calssifier at the top\n",
    "base_model = VGG19(input_shape = (128,128,3),\n",
    "                   include_top = False, \n",
    "                   weights = 'imagenet')\n",
    "# Freeze the ConvNet to avoid weight updates\n",
    "for layer in base_model.layers:\n",
    "    layer.trainable=False\n",
    "    \n",
    "x = base_model.output\n",
    "flat=Flatten()(x)\n",
    "\n",
    "# Add a classifier -  a fully connected dense layers\n",
    "class_1 = Dense(4608, activation='relu')(flat)\n",
    "drop_out = Dropout(0.2)(class_1)\n",
    "class_2 = Dense(1152, activation='relu')(drop_out)\n",
    "output = Dense(2, activation='softmax')(class_2)\n",
    "\n",
    "# Bake a model\n",
    "model_01 = Model(base_model.inputs, output)\n",
    "model_01.summary()\n",
    "\n",
    "# Call backs\n",
    "filepath = 'models/malaria.h5'\n",
    "es = EarlyStopping(monitor='val_loss', verbose=1, mode='min', patience=4)\n",
    "cp = ModelCheckpoint(filepath, monitor='val_loss', verbose=1, save_best_only=True,\n",
    "                     save_weights_only=False, mode='auto', save_freq='epoch')\n",
    "lrr = ReduceLROnPlateau(monitor='val_accuracy',patience=3,verbose=1,factor=0.5,min_lr=0.0001)\n",
    "\n",
    "# Define an optimizer\n",
    "sgd = SGD(learning_rate=.0001, decay=1e-6, momentum=0.9, nesterov=True)\n",
    "\n",
    "# Compile the model\n",
    "model_01.compile(loss=\"categorical_crossentropy\", optimizer=sgd, metrics=[\"accuracy\"])"
   ]
  },
  {
   "cell_type": "code",
   "execution_count": 43,
   "metadata": {
    "colab": {
     "base_uri": "https://localhost:8080/"
    },
    "id": "g-VORF_MQU1a",
    "outputId": "50464630-a59b-46c5-c13a-771233d3555d"
   },
   "outputs": [
    {
     "name": "stdout",
     "output_type": "stream",
     "text": [
      "Epoch 1/10\n",
      "50/50 [==============================] - ETA: 0s - loss: 0.7147 - accuracy: 0.5119\n",
      "Epoch 1: val_loss improved from inf to 0.64729, saving model to models/malaria.h5\n",
      "50/50 [==============================] - 29s 324ms/step - loss: 0.7147 - accuracy: 0.5119 - val_loss: 0.6473 - val_accuracy: 0.6782 - lr: 1.0000e-04\n",
      "Epoch 2/10\n",
      "50/50 [==============================] - ETA: 0s - loss: 0.6543 - accuracy: 0.6162\n",
      "Epoch 2: val_loss improved from 0.64729 to 0.60102, saving model to models/malaria.h5\n",
      "50/50 [==============================] - 15s 305ms/step - loss: 0.6543 - accuracy: 0.6162 - val_loss: 0.6010 - val_accuracy: 0.7300 - lr: 1.0000e-04\n",
      "Epoch 3/10\n",
      "50/50 [==============================] - ETA: 0s - loss: 0.6139 - accuracy: 0.6612\n",
      "Epoch 3: val_loss improved from 0.60102 to 0.56630, saving model to models/malaria.h5\n",
      "50/50 [==============================] - 15s 309ms/step - loss: 0.6139 - accuracy: 0.6612 - val_loss: 0.5663 - val_accuracy: 0.7808 - lr: 1.0000e-04\n",
      "Epoch 4/10\n",
      "50/50 [==============================] - ETA: 0s - loss: 0.5880 - accuracy: 0.7031\n",
      "Epoch 4: val_loss improved from 0.56630 to 0.54374, saving model to models/malaria.h5\n",
      "50/50 [==============================] - 15s 311ms/step - loss: 0.5880 - accuracy: 0.7031 - val_loss: 0.5437 - val_accuracy: 0.7627 - lr: 1.0000e-04\n",
      "Epoch 5/10\n",
      "50/50 [==============================] - ETA: 0s - loss: 0.5759 - accuracy: 0.7175\n",
      "Epoch 5: val_loss improved from 0.54374 to 0.51988, saving model to models/malaria.h5\n",
      "50/50 [==============================] - 15s 302ms/step - loss: 0.5759 - accuracy: 0.7175 - val_loss: 0.5199 - val_accuracy: 0.7914 - lr: 1.0000e-04\n",
      "Epoch 6/10\n",
      "50/50 [==============================] - ETA: 0s - loss: 0.5579 - accuracy: 0.7237\n",
      "Epoch 6: val_loss improved from 0.51988 to 0.51876, saving model to models/malaria.h5\n",
      "50/50 [==============================] - 15s 304ms/step - loss: 0.5579 - accuracy: 0.7237 - val_loss: 0.5188 - val_accuracy: 0.7489 - lr: 1.0000e-04\n",
      "Epoch 7/10\n",
      "50/50 [==============================] - ETA: 0s - loss: 0.5460 - accuracy: 0.7406\n",
      "Epoch 7: val_loss improved from 0.51876 to 0.51494, saving model to models/malaria.h5\n",
      "50/50 [==============================] - 15s 303ms/step - loss: 0.5460 - accuracy: 0.7406 - val_loss: 0.5149 - val_accuracy: 0.7373 - lr: 1.0000e-04\n",
      "Epoch 8/10\n",
      "50/50 [==============================] - ETA: 0s - loss: 0.5672 - accuracy: 0.7175\n",
      "Epoch 8: val_loss improved from 0.51494 to 0.50314, saving model to models/malaria.h5\n",
      "50/50 [==============================] - 16s 315ms/step - loss: 0.5672 - accuracy: 0.7175 - val_loss: 0.5031 - val_accuracy: 0.7485 - lr: 1.0000e-04\n",
      "Epoch 9/10\n",
      "50/50 [==============================] - ETA: 0s - loss: 0.5292 - accuracy: 0.7425\n",
      "Epoch 9: val_loss improved from 0.50314 to 0.47923, saving model to models/malaria.h5\n",
      "50/50 [==============================] - 16s 313ms/step - loss: 0.5292 - accuracy: 0.7425 - val_loss: 0.4792 - val_accuracy: 0.7747 - lr: 1.0000e-04\n",
      "Epoch 10/10\n",
      "50/50 [==============================] - ETA: 0s - loss: 0.5130 - accuracy: 0.7500\n",
      "Epoch 10: val_loss improved from 0.47923 to 0.46883, saving model to models/malaria.h5\n",
      "50/50 [==============================] - 16s 323ms/step - loss: 0.5130 - accuracy: 0.7500 - val_loss: 0.4688 - val_accuracy: 0.7827 - lr: 1.0000e-04\n"
     ]
    }
   ],
   "source": [
    "# Fit the model on the training set and train for 10 epochs\n",
    "history_01 = model_01.fit(train_generator,\n",
    "                          steps_per_epoch=50,\n",
    "                          epochs=10,\n",
    "                          callbacks = [es, cp, lrr],\n",
    "                          validation_data = valid_generator)"
   ]
  },
  {
   "cell_type": "code",
   "execution_count": 96,
   "metadata": {
    "colab": {
     "base_uri": "https://localhost:8080/",
     "height": 373
    },
    "id": "1VvqPQh-Qarc",
    "outputId": "4bd9e69f-84e8-4da3-9d70-9d42fc45438d"
   },
   "outputs": [
    {
     "data": {
      "image/png": "[encoded data removed]",
      "text/plain": [
       "<Figure size 720x360 with 2 Axes>"
      ]
     },
     "metadata": {},
     "output_type": "display_data"
    }
   ],
   "source": [
    "# Plot performance\n",
    "fig, (ax1,ax2) = plt.subplots(nrows=1, ncols=2, figsize=(10,5))\n",
    "fig.suptitle(\"Model Training (Frozen CNN)\", fontsize=12)\n",
    "max_epoch = len(history_01.history['accuracy'])+1\n",
    "epochs_list = list(range(1, max_epoch))\n",
    "\n",
    "ax1.plot(epochs_list, history_01.history['accuracy'], color='b', linestyle='-', label='Training Data')\n",
    "ax1.plot(epochs_list, history_01.history['val_accuracy'], color='r', linestyle='-', label='Validation Data')\n",
    "ax1.set_title('Training Accuracy', fontsize=12)\n",
    "ax1.set_xlabel('Epochs', fontsize=12)\n",
    "ax1.set_ylabel('Accuracy', fontsize=12)\n",
    "ax1.legend(frameon=False, loc='lower center', ncol=2)\n",
    "\n",
    "ax2.plot(epochs_list, history_01.history['loss'], color='b', linestyle='-', label='Training Data')\n",
    "ax2.plot(epochs_list, history_01.history['val_loss'], color='r', linestyle='-', label='Validation Data')\n",
    "ax2.set_title('Training Loss', fontsize=12)\n",
    "ax2.set_xlabel('Epochs', fontsize=12)\n",
    "ax2.set_ylabel('Loss', fontsize=12)\n",
    "ax2.legend(frameon=False, loc='upper center', ncol=2)\n",
    "plt.savefig(\"outputs/malaria_training_frozencnn.jpeg\", format='jpeg', dpi=400, bbox_inches='tight')"
   ]
  },
  {
   "cell_type": "code",
   "execution_count": 45,
   "metadata": {
    "id": "WSsH8fbhRODB"
   },
   "outputs": [],
   "source": [
    "# save model\n",
    "if not os.path.isdir('model_weights/'):\n",
    "    os.mkdir('model_weights/')\n",
    "model_01.save_weights(filepath='model_weights/vgg19_model_01.h5', overwrite=True)"
   ]
  },
  {
   "cell_type": "code",
   "execution_count": 46,
   "metadata": {
    "colab": {
     "base_uri": "https://localhost:8080/"
    },
    "id": "n_LWd1sRRRSg",
    "outputId": "d0fe1107-a58a-4f8f-b7ab-3cfb6b645554"
   },
   "outputs": [
    {
     "name": "stdout",
     "output_type": "stream",
     "text": [
      "Found 2756 images belonging to 2 classes.\n"
     ]
    }
   ],
   "source": [
    "# Resize test images similar to the train data\n",
    "test_generator = test_datagen.flow_from_directory(test_dir,\n",
    "                                                  batch_size=1,\n",
    "                                                  target_size=(128, 128),\n",
    "                                                  class_mode='categorical',\n",
    "                                                  shuffle=False,\n",
    "                                                  seed=42,\n",
    "                                                  color_mode='rgb')"
   ]
  },
  {
   "cell_type": "code",
   "execution_count": 89,
   "metadata": {
    "colab": {
     "base_uri": "https://localhost:8080/"
    },
    "id": "z-zPSyUlRUPj",
    "outputId": "4a1d2026-44d1-45c3-9390-d1ed3c157372"
   },
   "outputs": [
    {
     "name": "stdout",
     "output_type": "stream",
     "text": [
      "87/87 [==============================] - 6s 64ms/step - loss: 0.4688 - accuracy: 0.7827\n",
      "2756/2756 [==============================] - 25s 9ms/step - loss: 0.4557 - accuracy: 0.7986\n",
      "Validation loss:     0.4688\n",
      "Validation accuracy: 0.7827\n",
      "Test loss:           0.4557\n",
      "Test accuracy:       0.7986\n"
     ]
    }
   ],
   "source": [
    "# Load the saved model\n",
    "model_01.load_weights('model_weights/vgg19_model_01.h5')\n",
    "# Evaluate the model on the hold out validation and test datasets\n",
    "\n",
    "# Evaluate the model on batches of validation and testing data\n",
    "vgg_val_eval_01 = model_01.evaluate(valid_generator)\n",
    "vgg_test_eval_01 = model_01.evaluate(test_generator)\n",
    "\n",
    "print('Validation loss:     {0:.4f}'.format(vgg_val_eval_01[0]))\n",
    "print('Validation accuracy: {0:.4f}'.format(vgg_val_eval_01[1]))\n",
    "print('Test loss:           {0:.4f}'.format(vgg_test_eval_01[0]))\n",
    "print('Test accuracy:       {0:.4f}'.format(vgg_test_eval_01[1]))"
   ]
  },
  {
   "cell_type": "code",
   "execution_count": 48,
   "metadata": {
    "colab": {
     "base_uri": "https://localhost:8080/"
    },
    "id": "pf6JYz8BRXjy",
    "outputId": "6f27e1b4-7c3f-4004-946b-83cd66556abd"
   },
   "outputs": [
    {
     "name": "stdout",
     "output_type": "stream",
     "text": [
      "2756/2756 [==============================] - 22s 8ms/step\n"
     ]
    }
   ],
   "source": [
    "filenames = test_generator.filenames\n",
    "nb_samples = len(filenames)\n",
    "vgg_predictions_01 = model_01.predict(test_generator,\n",
    "                                      steps = nb_samples,\n",
    "                                      verbose=1)\n",
    "vgg_pred_labels_01= np.argmax(vgg_predictions_01, axis=1)"
   ]
  },
  {
   "cell_type": "code",
   "execution_count": null,
   "metadata": {
    "colab": {
     "base_uri": "https://localhost:8080/"
    },
    "id": "gHLPEaiwRkqD",
    "outputId": "21f49df8-e857-46ff-a5f1-62602f0500b3"
   },
   "outputs": [],
   "source": [
    "# Classification Report\n",
    "print(classification_report(test_generator.classes, vgg_pred_labels_01, \n",
    "                            target_names=['healthy', 'infected']))\n",
    "vgg_conf_mat_01 = pd.DataFrame(confusion_matrix(test_generator.classes, vgg_pred_labels_01), \n",
    "                        index=['healthy', 'infected'], \n",
    "                        columns=['healthy', 'infected'])"
   ]
  },
  {
   "cell_type": "code",
   "execution_count": null,
   "metadata": {
    "colab": {
     "base_uri": "https://localhost:8080/",
     "height": 359
    },
    "id": "J-wN8LA-RvnN",
    "outputId": "3784a593-a1d1-4216-cc56-3f96e98eea52"
   },
   "outputs": [],
   "source": [
    "fig, ax = plt.subplots(figsize=(5,5))\n",
    "#plt.figure(figsize=(9,9))\n",
    "sns.heatmap(vgg_conf_mat_01, annot=True, fmt=\".1f\", linewidths=0.5, square=True, cmap='Purples')\n",
    "ax.set_ylabel(\"Actual Label\", fontsize=14)\n",
    "ax.set_xlabel(\"Predicted Label\", fontsize=14)\n",
    "all_sample_title=\"Accuracy Score: {0:.2f}\".format(vgg_test_eval_01[1])\n",
    "ax.set_title(all_sample_title, size=15)\n",
    "ax.set_ylim(len(vgg_conf_mat_01)-0.05, -0.05)\n",
    "plt.tight_layout()"
   ]
  },
  {
   "cell_type": "code",
   "execution_count": null,
   "metadata": {
    "colab": {
     "base_uri": "https://localhost:8080/",
     "height": 540
    },
    "id": "iT459cxlR0IH",
    "outputId": "15bf03db-2bb8-4fb6-f58c-320163f0419c"
   },
   "outputs": [],
   "source": [
    "# AUC Curve\n",
    "false_positive_rate, true_positive_rate, threshold = roc_curve(test_generator.classes, vgg_pred_labels_01)\n",
    "area_under_curve = auc(false_positive_rate, true_positive_rate)\n",
    "\n",
    "# Plot AUC Curve\n",
    "fig, ax = plt.subplots(figsize=(12,8))\n",
    "ax.plot([0,1], [0,1], 'k--')\n",
    "ax.plot(false_positive_rate, true_positive_rate, label='AUC = {:.4f}'.format(area_under_curve))\n",
    "ax.set_xlabel('False Positive Rate', fontsize=16)\n",
    "ax.set_ylabel('True Positive Rate', fontsize=16)\n",
    "ax.set_title(\"ROC curve\", fontsize=20)\n",
    "ax.legend(frameon=False, loc='best', ncol=1, fontsize=16)"
   ]
  },
  {
   "cell_type": "markdown",
   "metadata": {
    "id": "UaON2MiySITz"
   },
   "source": [
    "# Incremental unfreezing and fine-tuning"
   ]
  },
  {
   "cell_type": "code",
   "execution_count": null,
   "metadata": {
    "colab": {
     "base_uri": "https://localhost:8080/"
    },
    "id": "cQNWGg21SEx2",
    "outputId": "b6444302-8eb8-4280-c003-dcb40022d003"
   },
   "outputs": [],
   "source": [
    "base_model = VGG19(include_top=False, input_shape=(128,128,3))\n",
    "base_model_layer_names = [layer.name for layer in base_model.layers]\n",
    "base_model_layer_names\n",
    "\n",
    "x = base_model.output\n",
    "\n",
    "flat=Flatten()(x)\n",
    "\n",
    "class_1 = Dense(4608, activation='relu')(flat)\n",
    "drop_out = Dropout(0.2)(class_1)\n",
    "class_2 = Dense(1152, activation='relu')(drop_out)\n",
    "output = Dense(2, activation='softmax')(class_2)\n",
    "\n",
    "model_02 = Model(base_model.inputs, output)\n",
    "model_02.load_weights('model_weights/vgg19_model_01.h5')\n",
    "\n",
    "set_trainable = False\n",
    "for layer in base_model.layers:\n",
    "    if layer.name in ['block5_conv4', 'block5_conv3']:\n",
    "        set_trainable=True\n",
    "    if set_trainable:\n",
    "        layer.trainable=True\n",
    "    else:\n",
    "        layer.trainable=False\n",
    "\n",
    "print(model_02.summary())"
   ]
  },
  {
   "cell_type": "code",
   "execution_count": null,
   "metadata": {
    "id": "kvdi_RAJSLZ7"
   },
   "outputs": [],
   "source": [
    "sgd = SGD(learning_rate=0.001, decay=1e-6, momentum=0.9, nesterov=True)\n",
    "#model_02 = Model(base_model.inputs, output)\n",
    "model_02.compile(optimizer=sgd,\n",
    "                loss='categorical_crossentropy',\n",
    "                metrics=['accuracy'])"
   ]
  },
  {
   "cell_type": "code",
   "execution_count": null,
   "metadata": {
    "colab": {
     "base_uri": "https://localhost:8080/"
    },
    "id": "W4h14NbBSRE7",
    "outputId": "cc266ab9-94bf-4c13-a282-1d6dfbdf5827"
   },
   "outputs": [],
   "source": [
    "history_02 = model_02.fit(train_generator, steps_per_epoch=10, epochs=10, callbacks = [es, cp, lrr], validation_data = valid_generator)"
   ]
  },
  {
   "cell_type": "code",
   "execution_count": null,
   "metadata": {
    "id": "SH154lEiSTiN"
   },
   "outputs": [],
   "source": [
    "# save model\n",
    "if not os.path.isdir('model_weights/'):\n",
    "    os.mkdir('model_weights/')\n",
    "model_02.save_weights(filepath='model_weights/vgg19_model_02.h5', overwrite=True)"
   ]
  },
  {
   "cell_type": "markdown",
   "metadata": {
    "id": "0mGy9rOKScw7"
   },
   "source": [
    "# Evaluating the model"
   ]
  },
  {
   "cell_type": "code",
   "execution_count": null,
   "metadata": {
    "colab": {
     "base_uri": "https://localhost:8080/",
     "height": 637
    },
    "id": "89Ar78_HSZm5",
    "outputId": "9f6c7382-fe60-452e-b88e-51a4d8d91677"
   },
   "outputs": [],
   "source": [
    "# Load the saved model\n",
    "model_02.load_weights('model_weights/vgg19_model_02.h5')\n",
    "# Evaluate the model on the hold out validation and test datasets\n",
    "\n",
    "vgg_val_eval_02 = model_02.evaluate(valid_generator)\n",
    "vgg_test_eval_02 = model_02.evaluate(test_generator)\n",
    "\n",
    "print('Validation loss:     {}'.format(vgg_val_eval_02[0]))\n",
    "print('Validation accuracy: {}'.format(vgg_val_eval_02[1]))\n",
    "print('Test loss:           {}'.format(vgg_test_eval_02[0]))\n",
    "print('Test accuracy:       {}'.format(vgg_test_eval_02[1]))\n",
    "\n",
    "\n",
    "filenames = test_generator.filenames\n",
    "nb_samples = len(filenames)\n",
    "vgg_predictions_02 = model_02.predict(test_generator,\n",
    "                                                steps = nb_samples,\n",
    "                                                verbose=1)\n",
    "vgg_pred_labels_02 = np.argmax(vgg_predictions_02, axis=1)\n",
    "\n",
    "\n",
    "# Classification Report\n",
    "print(classification_report(test_generator.classes, vgg_pred_labels_02, \n",
    "                            target_names=['healthy', 'infected']))\n",
    "vgg_conf_mat_02 = pd.DataFrame(confusion_matrix(test_generator.classes, vgg_pred_labels_02), \n",
    "                        index=['healthy', 'infected'], \n",
    "                        columns=['healthy', 'infected'])\n",
    "\n",
    "\n",
    "fig, ax = plt.subplots(figsize=(5,5))\n",
    "\n",
    "sns.heatmap(vgg_conf_mat_02, annot=True, fmt=\".1f\", linewidths=0.5, square=True, cmap='Purples')\n",
    "ax.set_ylabel(\"Actual Label\", fontsize=14)\n",
    "ax.set_xlabel(\"Predicted Label\", fontsize=14)\n",
    "all_sample_title=\"Accuracy Score: {0:.2f}\".format(vgg_test_eval_02[1])\n",
    "ax.set_title(all_sample_title, size=15)\n",
    "ax.set_ylim(len(vgg_conf_mat_02)-0.05, -0.05)\n",
    "plt.tight_layout()"
   ]
  },
  {
   "cell_type": "code",
   "execution_count": null,
   "metadata": {
    "colab": {
     "base_uri": "https://localhost:8080/",
     "height": 540
    },
    "id": "22aCGhB4SZJL",
    "outputId": "42586f15-7fb1-417e-ded6-46facaf9950e"
   },
   "outputs": [],
   "source": [
    "# AUC Curve\n",
    "false_positive_rate, true_positive_rate, threshold = roc_curve(test_generator.classes, vgg_pred_labels_02)\n",
    "area_under_curve = auc(false_positive_rate, true_positive_rate)\n",
    "\n",
    "# Plot AUC Curve\n",
    "fig, ax = plt.subplots(figsize=(12,8))\n",
    "ax.plot([0,1], [0,1], 'k--')\n",
    "ax.plot(false_positive_rate, true_positive_rate, label='AUC = {:.3f}'.format(area_under_curve))\n",
    "ax.set_xlabel('False Positive Rate', fontsize=16)\n",
    "ax.set_ylabel('True Positive Rate', fontsize=16)\n",
    "ax.set_title(\"ROC curve\", fontsize=20)\n",
    "ax.legend(frameon=False, loc='best', ncol=1, fontsize=16)"
   ]
  },
  {
   "cell_type": "markdown",
   "metadata": {
    "id": "bjj90lkbSqFj"
   },
   "source": [
    "# Unfreezing and fine-tuning the entire network"
   ]
  },
  {
   "cell_type": "code",
   "execution_count": null,
   "metadata": {
    "id": "Iv2jluzXSl6a"
   },
   "outputs": [],
   "source": [
    "# Build the network\n",
    "base_model = VGG19(include_top=False, input_shape=(128,128,3))\n",
    "x = base_model.output\n",
    "flat=Flatten()(x)\n",
    "class_1 = Dense(4608, activation='relu')(flat)\n",
    "drop_out = Dropout(0.2)(class_1)\n",
    "class_2 = Dense(1152, activation='relu')(drop_out)\n",
    "output = Dense(2, activation='softmax')(class_2)\n",
    "model_03 = Model(base_model.inputs, output)\n",
    "\n",
    "# Load weights\n",
    "model_03.load_weights('model_weights/vgg19_model_02.h5')\n",
    "\n",
    "sgd = SGD(learning_rate=0.0001, decay=1e-6, momentum=0.9, nesterov=True)\n",
    "# Compile the model\n",
    "model_03.compile(optimizer=sgd, loss='categorical_crossentropy', metrics=['accuracy'])"
   ]
  },
  {
   "cell_type": "code",
   "execution_count": null,
   "metadata": {
    "colab": {
     "base_uri": "https://localhost:8080/"
    },
    "id": "Emr-gW0YS_vQ",
    "outputId": "bbc040e0-e328-46dc-d1d1-8d6362fdb660"
   },
   "outputs": [],
   "source": [
    "history_03 = model_03.fit(train_generator,\n",
    "                          steps_per_epoch=100,\n",
    "                          epochs=35,\n",
    "                          callbacks = [es, cp, lrr],\n",
    "                          validation_data = valid_generator)"
   ]
  },
  {
   "cell_type": "code",
   "execution_count": null,
   "metadata": {
    "colab": {
     "base_uri": "https://localhost:8080/",
     "height": 373
    },
    "id": "TpTJJ5F3iHLQ",
    "outputId": "0c2857f3-66d4-4cae-c232-c6bb3e134a14"
   },
   "outputs": [],
   "source": [
    "history_03 = model_03.fit(train_generator,\n",
    "                          steps_per_epoch=100,\n",
    "                          epochs=35,\n",
    "                          callbacks = [es, cp, lrr],\n",
    "                          validation_data = valid_generator)# Plot performance\n",
    "fig, (ax1,ax2) = plt.subplots(nrows=1, ncols=2, figsize=(10,5))\n",
    "fig.suptitle(\"Model Training (Fine-tuned CNN)\", fontsize=12)\n",
    "max_epoch = len(history_03.history['accuracy'])+1\n",
    "epochs_list = list(range(1, max_epoch))\n",
    "\n",
    "ax1.plot(epochs_list, history_03.history['accuracy'], color='b', linestyle='-', label='Training Data')\n",
    "ax1.plot(epochs_list, history_03.history['val_accuracy'], color='r', linestyle='-', label='Validation Data')\n",
    "ax1.set_title('Training Accuracy', fontsize=12)\n",
    "ax1.set_xlabel('Epochs', fontsize=12)\n",
    "ax1.set_ylabel('Accuracy', fontsize=12)\n",
    "ax1.legend(frameon=False, loc='lower center', ncol=2)\n",
    "\n",
    "ax2.plot(epochs_list, history_03.history['loss'], color='b', linestyle='-', label='Training Data')\n",
    "ax2.plot(epochs_list, history_03.history['val_loss'], color='r', linestyle='-', label='Validation Data')\n",
    "ax2.set_title('Training Loss', fontsize=12)\n",
    "ax2.set_xlabel('Epochs', fontsize=12)\n",
    "ax2.set_ylabel('Loss', fontsize=12)history_03 = model_03.fit(train_generator,\n",
    "                          steps_per_epoch=100,\n",
    "                          epochs=35,\n",
    "                          callbacks = [es, cp, lrr],\n",
    "                          validation_data = valid_generator)\n",
    "ax2.legend(frameon=False, loc='upper center', ncol=2)\n",
    "plt.savefig(\"outputs/malaria_training_finetunedcnn.jpeg\", format='jpeg', dpi=400, bbox_inches='tight')"
   ]
  },
  {
   "cell_type": "code",
   "execution_count": null,
   "metadata": {
    "id": "_cfFhGuITFgY"
   },
   "outputs": [],
   "source": [
    "# save model\n",
    "if not os.path.isdir('model_weights/'):\n",
    "    os.mkdir('model_weights/')\n",
    "model_03.save_weights(filepath='model_weights/vgg_unfrozen.h5', overwrite=True)"
   ]
  },
  {
   "cell_type": "markdown",
   "metadata": {
    "id": "dU-W3L85YCo3"
   },
   "source": [
    "# Evaluating the model"
   ]
  },
  {
   "cell_type": "code",
   "execution_count": null,
   "metadata": {
    "colab": {
     "base_uri": "https://localhost:8080/",
     "height": 637
    },
    "id": "xsSRB4--YAZj",
    "outputId": "c0e2ae6c-c396-440f-c7d3-6d44e260801c"
   },
   "outputs": [],
   "source": [
    "# Load the saved model\n",
    "model_03.load_weights('model_weights/vgg_unfrozen.h5')\n",
    "# Evaluate the model on the hold out validation and test datasets\n",
    "\n",
    "vgg_val_eval_03 = model_03.evaluate(valid_generator)\n",
    "vgg_test_eval_03 = model_03.evaluate(test_generator)\n",
    "\n",
    "print('Validation loss     :{0:.4f}'.format(vgg_val_eval_03[0]))\n",
    "print('Validation accuracy :{0:.4f}'.format(vgg_val_eval_03[1]))\n",
    "print('Test loss           :{0:.4f}'.format(vgg_test_eval_03[0]))\n",
    "print('Test accuracy       :{0:.4f}'.format(vgg_test_eval_03[1]))\n",
    "\n",
    "\n",
    "filenames = test_generator.filenames\n",
    "nb_samples = len(filenames)\n",
    "vgg_predictions_03 = model_03.predict(test_generator,\n",
    "                                      steps = nb_samples,\n",
    "                                      verbose=1)\n",
    "vgg_pred_labels_03 = np.argmax(vgg_predictions_03, axis=1)\n",
    "\n",
    "\n",
    "# Classification Report\n",
    "print(classification_report(test_generator.classes, vgg_pred_labels_03, \n",
    "                            target_names=['healthy', 'infected']))\n",
    "vgg_conf_mat_03 = pd.DataFrame(confusion_matrix(test_generator.classes, vgg_pred_labels_03), \n",
    "                        index=['healthy', 'infected'], \n",
    "                        columns=['healthy', 'infected'])\n",
    "\n",
    "\n",
    "fig, ax = plt.subplots(figsize=(5,5))\n",
    "\n",
    "sns.heatmap(vgg_conf_mat_03, annot=True, fmt=\".1f\", linewidths=0.5, square=True, cmap='Purples')\n",
    "ax.set_ylabel(\"Actual Label\", fontsize=14)\n",
    "ax.set_xlabel(\"Predicted Label\", fontsize=14)\n",
    "all_sample_title=\"Accuracy Score: {0:.2f}\".format(vgg_test_eval_03[1])\n",
    "ax.set_title(all_sample_title, size=15)\n",
    "ax.set_ylim(len(vgg_conf_mat_03)-0.05, -0.05)\n",
    "plt.tight_layout()"
   ]
  },
  {
   "cell_type": "code",
   "execution_count": 33,
   "metadata": {
    "colab": {
     "base_uri": "https://localhost:8080/",
     "height": 540
    },
    "id": "MXGa_5PwYGpW",
    "outputId": "b2c1d2ca-3910-47cb-c8b2-81679c62f9ed"
   },
   "outputs": [
    {
     "ename": "NameError",
     "evalue": "name 'test_generator' is not defined",
     "output_type": "error",
     "traceback": [
      "\u001b[1;31m---------------------------------------------------------------------------\u001b[0m",
      "\u001b[1;31mNameError\u001b[0m                                 Traceback (most recent call last)",
      "Cell \u001b[1;32mIn[33], line 2\u001b[0m\n\u001b[0;32m      1\u001b[0m \u001b[38;5;66;03m# AUC Curve\u001b[39;00m\n\u001b[1;32m----> 2\u001b[0m false_positive_rate, true_positive_rate, threshold \u001b[38;5;241m=\u001b[39m roc_curve(\u001b[43mtest_generator\u001b[49m\u001b[38;5;241m.\u001b[39mclasses, vgg_pred_labels_03)\n\u001b[0;32m      3\u001b[0m area_under_curve \u001b[38;5;241m=\u001b[39m auc(false_positive_rate, true_positive_rate)\n\u001b[0;32m      5\u001b[0m \u001b[38;5;66;03m# Plot AUC Curve\u001b[39;00m\n",
      "\u001b[1;31mNameError\u001b[0m: name 'test_generator' is not defined"
     ]
    }
   ],
   "source": [
    "# AUC Curve\n",
    "false_positive_rate, true_positive_rate, threshold = roc_curve(test_generator.classes, vgg_pred_labels_03)\n",
    "area_under_curve = auc(false_positive_rate, true_positive_rate)\n",
    "\n",
    "# Plot AUC Curve\n",
    "fig, ax = plt.subplots(figsize=(12,8))\n",
    "ax.plot([0,1], [0,1], 'k--')\n",
    "ax.plot(false_positive_rate, true_positive_rate, label='AUC = {:.4f}'.format(area_under_curve))\n",
    "ax.set_xlabel('False Positive Rate', fontsize=16)\n",
    "ax.set_ylabel('True Positive Rate', fontsize=16)\n",
    "ax.set_title(\"ROC curve\", fontsize=20)\n",
    "ax.legend(frameon=False, loc='best', ncol=1, fontsize=16)"
   ]
  },
  {
   "cell_type": "code",
   "execution_count": 126,
   "metadata": {
    "colab": {
     "base_uri": "https://localhost:8080/",
     "height": 353
    },
    "id": "6H1qdAyspdaB",
    "outputId": "2bda1ade-e18d-4453-e0a7-312307459fd1"
   },
   "outputs": [
    {
     "data": {
      "image/png": "[encoded data removed]",
      "text/plain": [
       "<Figure size 576x360 with 1 Axes>"
      ]
     },
     "metadata": {},
     "output_type": "display_data"
    }
   ],
   "source": [
    "from sklearn import metrics\n",
    "plt.figure(figsize=(8,5))\n",
    "models = [\n",
    "{\n",
    "    'label': 'Frozen CNN',\n",
    "    'model': model_01,\n",
    "    'roc': vgg_pred_labels_01,\n",
    "},\n",
    "{\n",
    "    'label': 'Fine-tuned CNN',\n",
    "    'model': model_03,\n",
    "    'roc': vgg_pred_labels_03,\n",
    "}\n",
    "]\n",
    "for m in models:\n",
    "    model = m['model']  \n",
    "    false_positive_rate, true_positive_rate, threshold = roc_curve(test_generator.classes, m['roc'])\n",
    "    area_under_curve = auc(false_positive_rate, true_positive_rate)\n",
    "    plt.plot(false_positive_rate, true_positive_rate, label='%s - ROC (area = %0.2f)' % (m['label'], area_under_curve))\n",
    "\n",
    "plt.plot([0, 1], [0, 1],'r--')\n",
    "plt.xlim([-0.01, 1.0])\n",
    "plt.ylim([0.0, 1.05])\n",
    "plt.xlabel('1 - Specificity (False Positive Rate)', fontsize=12)\n",
    "plt.ylabel('Sensitivity (True Positive Rate)', fontsize=12)\n",
    "plt.title('ROC - Malaria Prediction', fontsize=12)\n",
    "plt.legend(loc=\"lower right\", fontsize=12)\n",
    "plt.savefig(\"outputs/roc_malaria.jpeg\", format='jpeg', dpi=400, bbox_inches='tight')\n",
    "plt.show()"
   ]
  },
  {
   "cell_type": "code",
   "execution_count": 115,
   "metadata": {
    "colab": {
     "base_uri": "https://localhost:8080/",
     "height": 438
    },
    "id": "_k09UVZRbYhN",
    "outputId": "de815bae-4c31-4f52-dd16-375f92f0467d"
   },
   "outputs": [
    {
     "name": "stdout",
     "output_type": "stream",
     "text": [
      "[79.86, 95.65]\n",
      "[79.86, 95.65]\n"
     ]
    },
    {
     "data": {
      "image/png": "[encoded data removed]",
      "text/plain": [
       "<Figure size 576x360 with 1 Axes>"
      ]
     },
     "metadata": {},
     "output_type": "display_data"
    }
   ],
   "source": [
    "from sklearn import metrics\n",
    "import numpy as np\n",
    "import matplotlib.pyplot as plt\n",
    "models = [\n",
    "{\n",
    "    'label': 'Frozen CNN',\n",
    "    'model': model_01,\n",
    "},\n",
    "{\n",
    "    'label': 'Fine-tuned CNN',\n",
    "    'model': model_03,\n",
    "}\n",
    "]\n",
    "\n",
    "means_roc = [79.86, 95.65]\n",
    "means_accuracy = [79.86, 95.65]\n",
    "means_loss = [45.57, 12.14]\n",
    "\n",
    "print(means_accuracy)\n",
    "print(means_roc)\n",
    "\n",
    "# data to plot\n",
    "n_groups = 2\n",
    "means_loss = tuple(means_loss)\n",
    "means_accuracy = tuple(means_accuracy)\n",
    "# means_roc = tuple(means_roc)\n",
    "\n",
    "# create plot\n",
    "fig, ax = plt.subplots(figsize=(8,5))\n",
    "index = np.arange(n_groups)\n",
    "bar_width = 0.35\n",
    "opacity = 0.8\n",
    "\n",
    "# rects1 = plt.bar(index, means_loss, bar_width,\n",
    "# alpha=opacity, \n",
    "# color='pink',\n",
    "# label='Categorical crossentropy Loss (%)')\n",
    "\n",
    "rects2 = plt.bar(index, means_accuracy, bar_width,\n",
    "alpha=opacity, \n",
    "color='mediumpurple',\n",
    "label='Accuracy (%)')\n",
    "\n",
    "rects3 = plt.bar(index + bar_width, means_roc, bar_width,\n",
    "alpha=opacity, \n",
    "color='rebeccapurple',\n",
    "label='ROC (%)')\n",
    "\n",
    "plt.xlim([-2, 3.5])\n",
    "plt.ylim([60, 100])\n",
    "\n",
    "plt.title('Performance Evaluation - Malaria Prediction', fontsize=12)\n",
    "plt.xticks(index, ('   Frozen CNN', '   Fine-tuned CNN'), rotation=40, ha='center', fontsize=12)\n",
    "plt.legend(loc=\"upper right\", fontsize=10)\n",
    "# plt.legend(bbox_to_anchor =(1, 0.6), fontsize=12)\n",
    "plt.savefig(\"outputs/PE_malaria.jpeg\", format='jpeg', dpi=400, bbox_inches='tight')\n",
    "plt.show()"
   ]
  },
  {
   "cell_type": "code",
   "execution_count": 122,
   "metadata": {
    "colab": {
     "base_uri": "https://localhost:8080/",
     "height": 420
    },
    "id": "2M97Hl0bbYWA",
    "outputId": "cb9b2916-b5f2-47c0-ac42-938cc912e6b8"
   },
   "outputs": [
    {
     "name": "stdout",
     "output_type": "stream",
     "text": [
      "[45.57, 12.14]\n"
     ]
    },
    {
     "data": {
      "image/png": "[encoded data removed]",
      "text/plain": [
       "<Figure size 576x360 with 1 Axes>"
      ]
     },
     "metadata": {},
     "output_type": "display_data"
    }
   ],
   "source": [
    "from sklearn import metrics\n",
    "import numpy as np\n",
    "import matplotlib.pyplot as plt\n",
    "models = [\n",
    "{\n",
    "    'label': 'Frozen CNN',\n",
    "    'model': model_01,\n",
    "},\n",
    "{\n",
    "    'label': 'Fine-tuned CNN',\n",
    "    'model': model_03,\n",
    "}\n",
    "]\n",
    "\n",
    "means_loss = [45.57, 12.14]\n",
    "\n",
    "print(means_loss)\n",
    "\n",
    "# data to plot\n",
    "n_groups = 2\n",
    "means_roc = tuple(means_roc)\n",
    "\n",
    "# create plot\n",
    "fig, ax = plt.subplots(figsize=(8,5))\n",
    "index = np.arange(n_groups)\n",
    "bar_width = 0.35\n",
    "opacity = 0.8\n",
    "\n",
    "rects1 = plt.bar(index, means_loss, bar_width,\n",
    "alpha=opacity, \n",
    "color='rebeccapurple',\n",
    "label='Categorical Crossentropy Loss (%)')\n",
    "\n",
    "plt.xlim([-2, 3.5])\n",
    "plt.ylim([0, 50])\n",
    "\n",
    "plt.title('Performance Evaluation - Malaria Prediction', fontsize=12)\n",
    "plt.xticks(index, ('   Frozen CNN', '   Fine-tuned CNN'), rotation=40, ha='center', fontsize=12)\n",
    "plt.legend(loc=\"upper right\", fontsize=10)\n",
    "# plt.legend(bbox_to_anchor =(1, 0.6), fontsize=12)\n",
    "plt.savefig(\"outputs/PE_malaria2.jpeg\", format='jpeg', dpi=400, bbox_inches='tight')\n",
    "plt.show()"
   ]
  },
  {
   "cell_type": "markdown",
   "metadata": {
    "id": "gta6lj5tYolt"
   },
   "source": [
    "## Prediction results for 10 randomly selected images"
   ]
  },
  {
   "cell_type": "code",
   "execution_count": 39,
   "metadata": {
    "id": "CLFjUJHYYkbu"
   },
   "outputs": [
    {
     "ename": "NameError",
     "evalue": "name 'infected_test_fpaths' is not defined",
     "output_type": "error",
     "traceback": [
      "\u001b[1;31m---------------------------------------------------------------------------\u001b[0m",
      "\u001b[1;31mNameError\u001b[0m                                 Traceback (most recent call last)",
      "Cell \u001b[1;32mIn[39], line 1\u001b[0m\n\u001b[1;32m----> 1\u001b[0m test_images \u001b[38;5;241m=\u001b[39m [img \u001b[38;5;28;01mfor\u001b[39;00m img \u001b[38;5;129;01min\u001b[39;00m random\u001b[38;5;241m.\u001b[39msample(\u001b[43minfected_test_fpaths\u001b[49m, \u001b[38;5;241m5\u001b[39m)]\n\u001b[0;32m      2\u001b[0m test_images\u001b[38;5;241m.\u001b[39mextend([img \u001b[38;5;28;01mfor\u001b[39;00m img \u001b[38;5;129;01min\u001b[39;00m random\u001b[38;5;241m.\u001b[39msample(healthy_test_fpaths, \u001b[38;5;241m5\u001b[39m)])\n",
      "\u001b[1;31mNameError\u001b[0m: name 'infected_test_fpaths' is not defined"
     ]
    }
   ],
   "source": [
    "test_images = [img for img in random.sample(infected_test_fpaths, 5)]\n",
    "test_images.extend([img for img in random.sample(healthy_test_fpaths, 5)])"
   ]
  },
  {
   "cell_type": "code",
   "execution_count": 35,
   "metadata": {
    "colab": {
     "base_uri": "https://localhost:8080/",
     "height": 558
    },
    "id": "o3ZsCZt2YuO7",
    "outputId": "ead7b1e9-7779-4399-8662-7759da2f3fc4"
   },
   "outputs": [
    {
     "ename": "NameError",
     "evalue": "name 'test_images' is not defined",
     "output_type": "error",
     "traceback": [
      "\u001b[1;31m---------------------------------------------------------------------------\u001b[0m",
      "\u001b[1;31mNameError\u001b[0m                                 Traceback (most recent call last)",
      "Cell \u001b[1;32mIn[35], line 9\u001b[0m\n\u001b[0;32m      7\u001b[0m \u001b[38;5;28;01mfor\u001b[39;00m i \u001b[38;5;129;01min\u001b[39;00m \u001b[38;5;28mrange\u001b[39m(\u001b[38;5;241m1\u001b[39m, columns\u001b[38;5;241m*\u001b[39mrows \u001b[38;5;241m+\u001b[39m\u001b[38;5;241m1\u001b[39m):\n\u001b[0;32m      8\u001b[0m     fig\u001b[38;5;241m.\u001b[39madd_subplot(rows, columns, i)\n\u001b[1;32m----> 9\u001b[0m     true_label \u001b[38;5;241m=\u001b[39m true_labels\u001b[38;5;241m.\u001b[39mappend(\u001b[43mtest_images\u001b[49m[i\u001b[38;5;241m-\u001b[39m\u001b[38;5;241m1\u001b[39m]\u001b[38;5;241m.\u001b[39msplit(\u001b[38;5;124m'\u001b[39m\u001b[38;5;124m/\u001b[39m\u001b[38;5;124m'\u001b[39m)[\u001b[38;5;241m2\u001b[39m])\n\u001b[0;32m     10\u001b[0m     img \u001b[38;5;241m=\u001b[39m mpimg\u001b[38;5;241m.\u001b[39mimread(test_images[i\u001b[38;5;241m-\u001b[39m\u001b[38;5;241m1\u001b[39m])\n\u001b[0;32m     11\u001b[0m     plt\u001b[38;5;241m.\u001b[39mimshow(img)\n",
      "\u001b[1;31mNameError\u001b[0m: name 'test_images' is not defined"
     ]
    },
    {
     "data": {
      "image/png": "[encoded data removed]",
      "text/plain": [
       "<Figure size 2800x1400 with 1 Axes>"
      ]
     },
     "metadata": {},
     "output_type": "display_data"
    }
   ],
   "source": [
    "from keras.preprocessing.image import ImageDataGenerator\n",
    "true_labels = []\n",
    "predicted_labels = [] \n",
    "fig = plt.figure(figsize=(28,14))\n",
    "columns=5\n",
    "rows=2\n",
    "for i in range(1, columns*rows +1):\n",
    "    fig.add_subplot(rows, columns, i)\n",
    "    true_label = true_labels.append(test_images[i-1].split('/')[2])\n",
    "    img = mpimg.imread(test_images[i-1])\n",
    "    plt.imshow(img)\n",
    "    plt.axis('off')\n",
    "    img = tf.keras.utils.load_img(test_images[i-1], target_size=(128,128))\n",
    "    img = tf.keras.utils.img_to_array(img)\n",
    "    img = np.expand_dims(img, axis = 0)\n",
    "    prediction = model_03.predict(img)\n",
    "    predicted_label = np.argmax(prediction)\n",
    "    plt.title('Predicted_label: {}\\n True Label: {}'.format(class_names[predicted_label], true_labels[i-1]), fontsize=24)\n",
    "plt.savefig(\"outputs/malaria_predictions.jpeg\", format='jpeg', dpi=400, bbox_inches='tight')\n",
    "plt.show()"
   ]
  },
  {
   "cell_type": "code",
   "execution_count": null,
   "metadata": {
    "id": "g7S6mrRJYxXP"
   },
   "outputs": [],
   "source": []
  }
 ],
 "metadata": {
  "accelerator": "GPU",
  "colab": {
   "collapsed_sections": [],
   "name": "malaria.ipynb",
   "provenance": []
  },
  "gpuClass": "standard",
  "kernelspec": {
   "display_name": "Python 3 (ipykernel)",
   "language": "python",
   "name": "python3"
  },
  "language_info": {
   "codemirror_mode": {
    "name": "ipython",
    "version": 3
   },
   "file_extension": ".py",
   "mimetype": "text/x-python",
   "name": "python",
   "nbconvert_exporter": "python",
   "pygments_lexer": "ipython3",
   "version": "3.10.9"
  }
 },
 "nbformat": 4,
 "nbformat_minor": 4
}
